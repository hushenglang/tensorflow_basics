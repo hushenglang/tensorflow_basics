{
 "cells": [
  {
   "cell_type": "markdown",
   "metadata": {},
   "source": [
    "# Solving Non Linear Problems\n",
    "\n",
    "In lesson 04, you were able to figure out how to solve a basic Linear Regression problem with a simple NN. In this lesson, I am going to introduce you to **Activation functions**. You are also going to create a NN with a hidden layer.\n",
    "\n",
    "> What is the purpose of an activation Function?\n",
    "\n",
    "Activation Functions allow your NN to model non linear problems. All of your NNs in the previous lessons have NOT had an activation function and will not do well with non linear datasets.\n",
    "\n",
    ">What are some of the common activation functions?\n",
    "\n",
    "* Sigmoid\n",
    "* Tanh\n",
    "* ReLU (most popular)"
   ]
  },
  {
   "cell_type": "code",
   "execution_count": 200,
   "metadata": {
    "collapsed": false
   },
   "outputs": [
    {
     "name": "stdout",
     "output_type": "stream",
     "text": [
      "Python version 3.5.3 | packaged by conda-forge | (default, Feb 10 2017, 07:09:50) \n",
      "[GCC 4.2.1 Compatible Apple LLVM 7.3.0 (clang-703.0.31)]\n",
      "Tensorflow version 1.0.1\n",
      "Pandas version 0.19.2\n",
      "Numpy version 1.12.0\n"
     ]
    }
   ],
   "source": [
    "# import libraries\n",
    "import tensorflow as tf\n",
    "import pandas as pd\n",
    "import numpy as np\n",
    "import sys\n",
    "import datetime\n",
    "import matplotlib.pyplot as plt\n",
    "plt.style.use('ggplot') # use this plot style\n",
    "%matplotlib inline\n",
    "\n",
    "print('Python version ' + sys.version)\n",
    "print('Tensorflow version ' + tf.VERSION)\n",
    "print('Pandas version ' + pd.__version__)\n",
    "print('Numpy version ' + np.__version__)"
   ]
  },
  {
   "cell_type": "markdown",
   "metadata": {},
   "source": [
    "# Function to model\n",
    "y = a * x^2 + b * x + c  "
   ]
  },
  {
   "cell_type": "code",
   "execution_count": 201,
   "metadata": {
    "collapsed": false
   },
   "outputs": [
    {
     "name": "stdout",
     "output_type": "stream",
     "text": [
      "Testing data points: (150, 1)\n",
      "Training data points: (850, 1)\n"
     ]
    }
   ],
   "source": [
    "## preparing the data\n",
    "\n",
    "# Let's generate 1000 random samples\n",
    "np.random.seed(41)\n",
    "pool = np.random.rand(1000,1).astype(np.float32)\n",
    "\n",
    "# Shuffle the samples\n",
    "np.random.shuffle(pool)\n",
    "\n",
    "# sample size of 15%\n",
    "sample = int(1000*0.15)\n",
    "\n",
    "# test and train data\n",
    "test_x = pool[:sample]\n",
    "train_x = pool[sample:]\n",
    "\n",
    "print('Testing data points: ' + str(test_x.shape))\n",
    "print('Training data points: ' + str(train_x.shape))\n",
    "\n",
    "# Let's compute the ouput using 2 for a, 3 for b, and 5 for c\n",
    "test_y = 2.0 * test_x**2 + 3.0 * test_x + 5\n",
    "train_y = 2.0 * train_x**2 + 3.0 * train_x + 5"
   ]
  },
  {
   "cell_type": "code",
   "execution_count": 202,
   "metadata": {
    "collapsed": false
   },
   "outputs": [
    {
     "data": {
      "text/html": [
       "<div>\n",
       "<table border=\"1\" class=\"dataframe\">\n",
       "  <thead>\n",
       "    <tr style=\"text-align: right;\">\n",
       "      <th></th>\n",
       "      <th>x</th>\n",
       "      <th>y</th>\n",
       "    </tr>\n",
       "  </thead>\n",
       "  <tbody>\n",
       "    <tr>\n",
       "      <th>0</th>\n",
       "      <td>0.297006</td>\n",
       "      <td>6.067443</td>\n",
       "    </tr>\n",
       "    <tr>\n",
       "      <th>1</th>\n",
       "      <td>0.016343</td>\n",
       "      <td>5.049562</td>\n",
       "    </tr>\n",
       "    <tr>\n",
       "      <th>2</th>\n",
       "      <td>0.875014</td>\n",
       "      <td>9.156341</td>\n",
       "    </tr>\n",
       "    <tr>\n",
       "      <th>3</th>\n",
       "      <td>0.560268</td>\n",
       "      <td>7.308606</td>\n",
       "    </tr>\n",
       "    <tr>\n",
       "      <th>4</th>\n",
       "      <td>0.672104</td>\n",
       "      <td>7.919758</td>\n",
       "    </tr>\n",
       "  </tbody>\n",
       "</table>\n",
       "</div>"
      ],
      "text/plain": [
       "          x         y\n",
       "0  0.297006  6.067443\n",
       "1  0.016343  5.049562\n",
       "2  0.875014  9.156341\n",
       "3  0.560268  7.308606\n",
       "4  0.672104  7.919758"
      ]
     },
     "execution_count": 202,
     "metadata": {},
     "output_type": "execute_result"
    }
   ],
   "source": [
    "df = pd.DataFrame({\"x\":train_x[:,0], \"y\":train_y[:,0]})\n",
    "df.head()"
   ]
  },
  {
   "cell_type": "code",
   "execution_count": 203,
   "metadata": {
    "collapsed": false,
    "scrolled": true
   },
   "outputs": [
    {
     "data": {
      "text/plain": [
       "<matplotlib.axes._subplots.AxesSubplot at 0x11f24b8d0>"
      ]
     },
     "execution_count": 203,
     "metadata": {},
     "output_type": "execute_result"
    },
    {
     "data": {
      "image/png": "[encoded data removed]",
      "text/plain": [
       "<matplotlib.figure.Figure at 0x11f4123c8>"
      ]
     },
     "metadata": {},
     "output_type": "display_data"
    }
   ],
   "source": [
    "df.plot.scatter(x=\"x\", y=\"y\", figsize=(15,5))"
   ]
  },
  {
   "cell_type": "markdown",
   "metadata": {},
   "source": [
    "# Model your Graph\n",
    "\n",
    "Start to use W (for weight) and b (for bias) when setting up your variables. Aside from adding your ReLU activation function, it is a good idea to use Tensorflow's **matrix multiplication function (matmul)** as shown below.\n",
    "\n",
    "> The ? in the shape output just means it can be of any shape.\n",
    "\n",
    "For the shape parameter, you can think of it like this...\n",
    "> shape = [how many data points do you have, how many features does each data point have]\n",
    "\n",
    "For this lesson since we are doing a simple regression, we only have one feature (x). We use the **None** keyword so that we are not restricted on the number of samples to feed our model. This will become more important when you learn about training using batches on a future lesson."
   ]
  },
  {
   "cell_type": "code",
   "execution_count": 204,
   "metadata": {
    "collapsed": false
   },
   "outputs": [
    {
     "name": "stdout",
     "output_type": "stream",
     "text": [
      "shape of x and y:\n",
      "(?, 1) (?, 1)\n"
     ]
    }
   ],
   "source": [
    "# you can adjust the number of neurons in the hidden layer here\n",
    "hidden_size = 1\n",
    "\n",
    "# placeholders\n",
    "x = tf.placeholder(tf.float32, shape=[None, 1], name='x')\n",
    "y = tf.placeholder(tf.float32, shape=[None, 1], name='y')\n",
    "\n",
    "print(\"shape of x and y:\")\n",
    "print(x.get_shape(),y.get_shape())"
   ]
  },
  {
   "cell_type": "code",
   "execution_count": 205,
   "metadata": {
    "collapsed": false
   },
   "outputs": [
    {
     "name": "stdout",
     "output_type": "stream",
     "text": [
      "shape of hidden layer:\n",
      "(?, 1)\n"
     ]
    }
   ],
   "source": [
    "seed = 42\n",
    "\n",
    "# create your first hidden layer!\n",
    "# tf.truncated_normal([how many samples do you have, size of output layer])\n",
    "W1 = tf.Variable(tf.truncated_normal([1, hidden_size], mean=0.1, stddev=0.01, seed=seed), name=\"w1\")\n",
    "\n",
    "# tf.truncated_normal([size of output layer])\n",
    "b1 = tf.Variable(tf.zeros([hidden_size]), name=\"b1\")\n",
    "\n",
    "# shape of h1 = [size of your samples, size of output layer]\n",
    "h1 = tf.nn.relu(tf.matmul(x, W1) + b1, name=\"h1\")\n",
    "\n",
    "print(\"shape of hidden layer:\")\n",
    "print(h1.get_shape())"
   ]
  },
  {
   "cell_type": "code",
   "execution_count": 206,
   "metadata": {
    "collapsed": false
   },
   "outputs": [
    {
     "name": "stdout",
     "output_type": "stream",
     "text": [
      "shape of output layer:\n",
      "(?, 1)\n"
     ]
    }
   ],
   "source": [
    "# Output Layer\n",
    "W = tf.Variable(tf.truncated_normal([hidden_size, 1], mean=0.1, stddev=0.01, seed=seed), name=\"w\")\n",
    "b = tf.Variable(tf.zeros([1]), name=\"b\")\n",
    "\n",
    "# note that the input comes from our hidden layer h1\n",
    "pred = tf.nn.relu(tf.matmul(h1, W) + b)\n",
    "\n",
    "print(\"shape of output layer:\")\n",
    "print(pred.get_shape())"
   ]
  },
  {
   "cell_type": "code",
   "execution_count": 207,
   "metadata": {
    "collapsed": true
   },
   "outputs": [],
   "source": [
    "loss = tf.reduce_mean(tf.square(pred-y))\n",
    "optimizer = tf.train.GradientDescentOptimizer(0.09)\n",
    "train = optimizer.minimize(loss)\n"
   ]
  },
  {
   "cell_type": "markdown",
   "metadata": {},
   "source": [
    "# How Good is Your model?\n",
    "Set up the following variables to calculate the accuracy rate of your model. You will do that shortly."
   ]
  },
  {
   "cell_type": "code",
   "execution_count": 208,
   "metadata": {
    "collapsed": true
   },
   "outputs": [],
   "source": [
    "correct_prediction = tf.equal(tf.round(pred), tf.round(y))\n",
    "accuracy = tf.reduce_mean(tf.cast(correct_prediction, tf.float32))"
   ]
  },
  {
   "cell_type": "markdown",
   "metadata": {},
   "source": [
    "# Training Time!\n",
    "The best score I was able to obtain was a ~90% accuracy using a LR of 0.09 and iterating 250 times. I tried different learning rates and iterations but I was having a hard time getting past the 89 mark."
   ]
  },
  {
   "cell_type": "code",
   "execution_count": 209,
   "metadata": {
    "collapsed": false,
    "scrolled": true
   },
   "outputs": [
    {
     "name": "stdout",
     "output_type": "stream",
     "text": [
      "[[ 0.09719225]] [[ 0.09719225]]\n",
      "Training loss at step 0: 53.533848  accuracy: 0.000000\n",
      "Training loss at step 50: 0.022636  accuracy: 0.864706\n",
      "Training loss at step 100: 0.020757  accuracy: 0.874118\n",
      "Training loss at step 150: 0.020757  accuracy: 0.874118\n",
      "Training loss at step 200: 0.020757  accuracy: 0.874118\n",
      "Training loss at step 250: 0.020757  accuracy: 0.874118\n",
      "Training loss at step 300: 0.020757  accuracy: 0.874118\n",
      "Training loss at step 350: 0.020757  accuracy: 0.874118\n",
      "Training loss at step 400: 0.020757  accuracy: 0.874118\n",
      "Training loss at step 450: 0.020757  accuracy: 0.874118\n",
      "Training loss at step 500: 0.020757  accuracy: 0.874118\n",
      "Training loss at step 550: 0.020757  accuracy: 0.874118\n",
      "Training loss at step 600: 0.020757  accuracy: 0.874118\n",
      "Training loss at step 650: 0.020757  accuracy: 0.874118\n",
      "Training loss at step 700: 0.020757  accuracy: 0.874118\n",
      "Training loss at step 750: 0.020757  accuracy: 0.874118\n",
      "Training loss at step 800: 0.020757  accuracy: 0.874118\n",
      "Training loss at step 850: 0.020757  accuracy: 0.874118\n",
      "Training loss at step 900: 0.020757  accuracy: 0.874118\n",
      "Training loss at step 950: 0.020757  accuracy: 0.874118\n",
      "Accuracy on the Training Set: 0.874118\n",
      "Accuracy on the Test Set: 0.953333\n",
      "[[ 2.2147243]] [[ 2.25513649]]\n"
     ]
    }
   ],
   "source": [
    "init = tf.global_variables_initializer()\n",
    "t=[]\n",
    "\n",
    "with tf.Session() as sess:\n",
    "    sess.run(init)\n",
    "    #train the model\n",
    "    train_data = {x:train_x, y:train_y}\n",
    "    test_data = {x:test_x, y:test_y}\n",
    "    print(W1.eval(), W.eval())\n",
    "    for step in range(1000):\n",
    "        train_loss, train_pred = sess.run([loss, train], feed_dict=train_data)\n",
    "        if step%50==0:\n",
    "            acc = sess.run(accuracy, feed_dict=train_data)\n",
    "            t.append((step, train_loss))\n",
    "            print(\"Training loss at step %d: %f  accuracy: %f\" % (step, train_loss, acc))     \n",
    "    \n",
    "    print(\"Accuracy on the Training Set:\", accuracy.eval(train_data) )\n",
    "    print(\"Accuracy on the Test Set:\", accuracy.eval(test_data) )\n",
    "    \n",
    "    print(W1.eval(), W.eval())"
   ]
  },
  {
   "cell_type": "code",
   "execution_count": 212,
   "metadata": {
    "collapsed": false
   },
   "outputs": [
    {
     "data": {
      "image/png": "[encoded data removed]",
      "text/plain": [
       "<matplotlib.figure.Figure at 0x11f909ba8>"
      ]
     },
     "metadata": {},
     "output_type": "display_data"
    }
   ],
   "source": [
    "df_loss = pd.DataFrame(t, columns=['step', 'train_loss']) \n",
    "df_loss.plot(x='step', y='train_loss', figsize=(15,5));"
   ]
  }
 ],
 "metadata": {
  "anaconda-cloud": {},
  "kernelspec": {
   "display_name": "Python [conda env:tensorflow]",
   "language": "python",
   "name": "conda-env-tensorflow-py"
  },
  "language_info": {
   "codemirror_mode": {
    "name": "ipython",
    "version": 3
   },
   "file_extension": ".py",
   "mimetype": "text/x-python",
   "name": "python",
   "nbconvert_exporter": "python",
   "pygments_lexer": "ipython3",
   "version": "3.5.3"
  }
 },
 "nbformat": 4,
 "nbformat_minor": 0
}

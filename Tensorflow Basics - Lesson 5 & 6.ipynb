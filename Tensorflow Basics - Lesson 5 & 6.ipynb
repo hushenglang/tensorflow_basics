{
 "cells": [
  {
   "cell_type": "markdown",
   "metadata": {},
   "source": [
    "# Tunning Your Model\n",
    "As a Data Scientist you need to be able to tune your model to make sure it is predicting as accurately as possible and doing it as fast as possible. There are a couple of parameters that you will have the opportunity to tweak for the Gradient Descent Optimizer.\n",
    "> **Learning Rate** - Determines how fast your model will learn. The higher the number the faster it will learn.\n",
    "\n",
    "* If you make the LR too high, your model might osilate between the same two values but never hit the local minimum (or the answer)\n",
    "* If you make the LR too small, you might need significant more iterations to get to the local minimum\n",
    "* Typical LR range: [0.001 - 1]\n",
    "\n",
    "The goal is to choose the highest learning rate that will get you the local minimum with as few iterations as possible.\n",
    "\n",
    "> **Iterations** - Determines the number of iterations you are going to run your model for. You may also hear this referred to as an epoch.\n",
    "\n",
    "Consider plotting the error output against the number of iterations.\n",
    "* Make sure the error it is decreasing in a consistent manner and decreasing after every iteration\n",
    "* A flat line could mean you have found your answer\n",
    "\n",
    "How many iterations are recommended?\n",
    "* Depends on the problem, it could be a few, it could be many."
   ]
  },
  {
   "cell_type": "code",
   "execution_count": 35,
   "metadata": {
    "collapsed": false
   },
   "outputs": [
    {
     "name": "stdout",
     "output_type": "stream",
     "text": [
      "Python version 3.5.3 | packaged by conda-forge | (default, Feb 10 2017, 07:09:50) \n",
      "[GCC 4.2.1 Compatible Apple LLVM 7.3.0 (clang-703.0.31)]\n",
      "Tensorflow version 1.0.1\n",
      "Pandas version 0.19.2\n",
      "Numpy version 1.12.0\n"
     ]
    }
   ],
   "source": [
    "# import libraries\n",
    "import tensorflow as tf\n",
    "import pandas as pd\n",
    "import numpy as np\n",
    "import sys\n",
    "import math\n",
    "%matplotlib inline\n",
    "print('Python version ' + sys.version)\n",
    "print('Tensorflow version ' + tf.VERSION)\n",
    "print('Pandas version ' + pd.__version__)\n",
    "print('Numpy version ' + np.__version__)"
   ]
  },
  {
   "cell_type": "code",
   "execution_count": 36,
   "metadata": {
    "collapsed": true
   },
   "outputs": [],
   "source": [
    "train_x = np.random.rand(100).astype(np.float32)"
   ]
  },
  {
   "cell_type": "code",
   "execution_count": 37,
   "metadata": {
    "collapsed": true
   },
   "outputs": [],
   "source": [
    "train_y = 0.1*train_x+0.3"
   ]
  },
  {
   "cell_type": "code",
   "execution_count": 38,
   "metadata": {
    "collapsed": false
   },
   "outputs": [],
   "source": [
    "lr = 0.2\n",
    "\n",
    "x = tf.placeholder(tf.float32, name='x')\n",
    "y = tf.placeholder(tf.float32, name='y')\n",
    "\n",
    "W = tf.Variable(np.random.rand())\n",
    "b = tf.Variable(np.random.rand())\n",
    "pred = W*x + b\n",
    "\n",
    "loss = tf.reduce_mean(tf.square(train_y-pred))\n",
    "optimizer = tf.train.GradientDescentOptimizer(lr)\n",
    "train = optimizer.minimize(loss)"
   ]
  },
  {
   "cell_type": "code",
   "execution_count": 39,
   "metadata": {
    "collapsed": false
   },
   "outputs": [],
   "source": [
    "correct_prediction = tf.equal(tf.round(pred), tf.round(train_y))\n",
    "accuracy = tf.reduce_mean(tf.cast(correct_prediction, tf.float32))"
   ]
  },
  {
   "cell_type": "code",
   "execution_count": 42,
   "metadata": {
    "collapsed": false
   },
   "outputs": [
    {
     "name": "stdout",
     "output_type": "stream",
     "text": [
      "Accuracy on train set - [0]:  0.13\n",
      "Accuracy on train set - [1]:  0.44\n",
      "Accuracy on train set - [2]:  0.61\n",
      "Accuracy on train set - [3]:  0.68\n",
      "Accuracy on train set - [4]:  0.74\n",
      "Accuracy on train set - [5]:  0.77\n",
      "Accuracy on train set - [6]:  0.79\n",
      "Accuracy on train set - [7]:  0.81\n",
      "Accuracy on train set - [8]:  0.81\n",
      "Accuracy on train set - [9]:  0.85\n",
      "Accuracy on train set - [10]:  0.87\n",
      "Accuracy on train set - [11]:  0.88\n",
      "Accuracy on train set - [12]:  0.91\n",
      "Accuracy on train set - [13]:  0.91\n",
      "Accuracy on train set - [14]:  0.92\n",
      "Accuracy on train set - [15]:  0.93\n",
      "Accuracy on train set - [16]:  0.93\n",
      "Accuracy on train set - [17]:  0.93\n",
      "Accuracy on train set - [18]:  0.93\n",
      "Accuracy on train set - [19]:  0.94\n",
      "Accuracy on train set - [20]:  0.94\n",
      "Accuracy on train set - [21]:  0.94\n",
      "Accuracy on train set - [22]:  0.96\n",
      "Accuracy on train set - [23]:  0.97\n",
      "Accuracy on train set - [24]:  0.98\n",
      "Accuracy on train set - [25]:  0.98\n",
      "Accuracy on train set - [26]:  1.0\n",
      "Accuracy on train set - [27]:  1.0\n",
      "Accuracy on train set - [28]:  1.0\n",
      "Accuracy on train set - [29]:  1.0\n",
      "Accuracy on train set - [30]:  1.0\n",
      "Accuracy on train set - [31]:  1.0\n",
      "Accuracy on train set - [32]:  1.0\n",
      "Accuracy on train set - [33]:  1.0\n",
      "Accuracy on train set - [34]:  1.0\n",
      "Accuracy on train set - [35]:  1.0\n",
      "Accuracy on train set - [36]:  1.0\n",
      "Accuracy on train set - [37]:  1.0\n",
      "Accuracy on train set - [38]:  1.0\n",
      "Accuracy on train set - [39]:  1.0\n",
      "Accuracy on train set - [40]:  1.0\n",
      "Accuracy on train set - [41]:  1.0\n",
      "Accuracy on train set - [42]:  1.0\n",
      "Accuracy on train set - [43]:  1.0\n",
      "Accuracy on train set - [44]:  1.0\n",
      "Accuracy on train set - [45]:  1.0\n",
      "Accuracy on train set - [46]:  1.0\n",
      "Accuracy on train set - [47]:  1.0\n",
      "Accuracy on train set - [48]:  1.0\n",
      "Accuracy on train set - [49]:  1.0\n",
      "Accuracy on train set - [50]:  1.0\n",
      "Accuracy on train set - [51]:  1.0\n",
      "Accuracy on train set - [52]:  1.0\n",
      "Accuracy on train set - [53]:  1.0\n",
      "Accuracy on train set - [54]:  1.0\n",
      "Accuracy on train set - [55]:  1.0\n",
      "Accuracy on train set - [56]:  1.0\n",
      "Accuracy on train set - [57]:  1.0\n",
      "Accuracy on train set - [58]:  1.0\n",
      "Accuracy on train set - [59]:  1.0\n",
      "Accuracy on train set - [60]:  1.0\n",
      "Accuracy on train set - [61]:  1.0\n",
      "Accuracy on train set - [62]:  1.0\n",
      "Accuracy on train set - [63]:  1.0\n",
      "Accuracy on train set - [64]:  1.0\n",
      "Accuracy on train set - [65]:  1.0\n",
      "Accuracy on train set - [66]:  1.0\n",
      "Accuracy on train set - [67]:  1.0\n",
      "Accuracy on train set - [68]:  1.0\n",
      "Accuracy on train set - [69]:  1.0\n",
      "Accuracy on train set - [70]:  1.0\n",
      "Accuracy on train set - [71]:  1.0\n",
      "Accuracy on train set - [72]:  1.0\n",
      "Accuracy on train set - [73]:  1.0\n",
      "Accuracy on train set - [74]:  1.0\n",
      "Accuracy on train set - [75]:  1.0\n",
      "Accuracy on train set - [76]:  1.0\n",
      "Accuracy on train set - [77]:  1.0\n",
      "Accuracy on train set - [78]:  1.0\n",
      "Accuracy on train set - [79]:  1.0\n",
      "Accuracy on train set - [80]:  1.0\n",
      "Accuracy on train set - [81]:  1.0\n",
      "Accuracy on train set - [82]:  1.0\n",
      "Accuracy on train set - [83]:  1.0\n",
      "Accuracy on train set - [84]:  1.0\n",
      "Accuracy on train set - [85]:  1.0\n",
      "Accuracy on train set - [86]:  1.0\n",
      "Accuracy on train set - [87]:  1.0\n",
      "Accuracy on train set - [88]:  1.0\n",
      "Accuracy on train set - [89]:  1.0\n",
      "Accuracy on train set - [90]:  1.0\n",
      "Accuracy on train set - [91]:  1.0\n",
      "Accuracy on train set - [92]:  1.0\n",
      "Accuracy on train set - [93]:  1.0\n",
      "Accuracy on train set - [94]:  1.0\n",
      "Accuracy on train set - [95]:  1.0\n",
      "Accuracy on train set - [96]:  1.0\n",
      "Accuracy on train set - [97]:  1.0\n",
      "Accuracy on train set - [98]:  1.0\n",
      "Accuracy on train set - [99]:  1.0\n",
      "Accuracy on train set - [100]:  1.0\n",
      "Accuracy on train set - [101]:  1.0\n",
      "Accuracy on train set - [102]:  1.0\n",
      "Accuracy on train set - [103]:  1.0\n",
      "Accuracy on train set - [104]:  1.0\n",
      "Accuracy on train set - [105]:  1.0\n",
      "Accuracy on train set - [106]:  1.0\n",
      "Accuracy on train set - [107]:  1.0\n",
      "Accuracy on train set - [108]:  1.0\n",
      "Accuracy on train set - [109]:  1.0\n",
      "Accuracy on train set - [110]:  1.0\n",
      "Accuracy on train set - [111]:  1.0\n",
      "Accuracy on train set - [112]:  1.0\n",
      "Accuracy on train set - [113]:  1.0\n",
      "Accuracy on train set - [114]:  1.0\n",
      "Accuracy on train set - [115]:  1.0\n",
      "Accuracy on train set - [116]:  1.0\n",
      "Accuracy on train set - [117]:  1.0\n",
      "Accuracy on train set - [118]:  1.0\n",
      "Accuracy on train set - [119]:  1.0\n",
      "Accuracy on train set - [120]:  1.0\n",
      "Accuracy on train set - [121]:  1.0\n",
      "Accuracy on train set - [122]:  1.0\n",
      "Accuracy on train set - [123]:  1.0\n",
      "Accuracy on train set - [124]:  1.0\n",
      "Accuracy on train set - [125]:  1.0\n",
      "Accuracy on train set - [126]:  1.0\n",
      "Accuracy on train set - [127]:  1.0\n",
      "Accuracy on train set - [128]:  1.0\n",
      "Accuracy on train set - [129]:  1.0\n",
      "Accuracy on train set - [130]:  1.0\n",
      "Accuracy on train set - [131]:  1.0\n",
      "Accuracy on train set - [132]:  1.0\n",
      "Accuracy on train set - [133]:  1.0\n",
      "Accuracy on train set - [134]:  1.0\n",
      "Accuracy on train set - [135]:  1.0\n",
      "Accuracy on train set - [136]:  1.0\n",
      "Accuracy on train set - [137]:  1.0\n",
      "Accuracy on train set - [138]:  1.0\n",
      "Accuracy on train set - [139]:  1.0\n",
      "Accuracy on train set - [140]:  1.0\n",
      "Accuracy on train set - [141]:  1.0\n",
      "Accuracy on train set - [142]:  1.0\n",
      "Accuracy on train set - [143]:  1.0\n",
      "Accuracy on train set - [144]:  1.0\n",
      "Accuracy on train set - [145]:  1.0\n",
      "Accuracy on train set - [146]:  1.0\n",
      "Accuracy on train set - [147]:  1.0\n",
      "Accuracy on train set - [148]:  1.0\n",
      "Accuracy on train set - [149]:  1.0\n",
      "Accuracy on train set - [150]:  1.0\n",
      "Accuracy on train set - [151]:  1.0\n",
      "Accuracy on train set - [152]:  1.0\n",
      "Accuracy on train set - [153]:  1.0\n",
      "Accuracy on train set - [154]:  1.0\n",
      "Accuracy on train set - [155]:  1.0\n",
      "Accuracy on train set - [156]:  1.0\n",
      "Accuracy on train set - [157]:  1.0\n",
      "Accuracy on train set - [158]:  1.0\n",
      "Accuracy on train set - [159]:  1.0\n",
      "Accuracy on train set - [160]:  1.0\n",
      "Accuracy on train set - [161]:  1.0\n",
      "Accuracy on train set - [162]:  1.0\n",
      "Accuracy on train set - [163]:  1.0\n",
      "Accuracy on train set - [164]:  1.0\n",
      "Accuracy on train set - [165]:  1.0\n",
      "Accuracy on train set - [166]:  1.0\n",
      "Accuracy on train set - [167]:  1.0\n",
      "Accuracy on train set - [168]:  1.0\n",
      "Accuracy on train set - [169]:  1.0\n",
      "Accuracy on train set - [170]:  1.0\n",
      "Accuracy on train set - [171]:  1.0\n",
      "Accuracy on train set - [172]:  1.0\n",
      "Accuracy on train set - [173]:  1.0\n",
      "Accuracy on train set - [174]:  1.0\n",
      "Accuracy on train set - [175]:  1.0\n",
      "Accuracy on train set - [176]:  1.0\n",
      "Accuracy on train set - [177]:  1.0\n",
      "Accuracy on train set - [178]:  1.0\n",
      "Accuracy on train set - [179]:  1.0\n",
      "Accuracy on train set - [180]:  1.0\n",
      "Accuracy on train set - [181]:  1.0\n",
      "Accuracy on train set - [182]:  1.0\n",
      "Accuracy on train set - [183]:  1.0\n",
      "Accuracy on train set - [184]:  1.0\n",
      "Accuracy on train set - [185]:  1.0\n",
      "Accuracy on train set - [186]:  1.0\n",
      "Accuracy on train set - [187]:  1.0\n",
      "Accuracy on train set - [188]:  1.0\n",
      "Accuracy on train set - [189]:  1.0\n",
      "Accuracy on train set - [190]:  1.0\n",
      "Accuracy on train set - [191]:  1.0\n",
      "Accuracy on train set - [192]:  1.0\n",
      "Accuracy on train set - [193]:  1.0\n",
      "Accuracy on train set - [194]:  1.0\n",
      "Accuracy on train set - [195]:  1.0\n",
      "Accuracy on train set - [196]:  1.0\n",
      "Accuracy on train set - [197]:  1.0\n",
      "Accuracy on train set - [198]:  1.0\n",
      "Accuracy on train set - [199]:  1.0\n"
     ]
    }
   ],
   "source": [
    "t=[]\n",
    "\n",
    "# initialize the variables\n",
    "init = tf.global_variables_initializer()\n",
    "\n",
    "# run graph\n",
    "with tf.Session() as sess:\n",
    "    sess.run(init)\n",
    "    \n",
    "    # fit the function\n",
    "    for step in range(200):\n",
    "        # get the data\n",
    "        train_data = {x:train_x, y:train_y}\n",
    "        sess.run(train, feed_dict=train_data)\n",
    "        t.append((step, sess.run(loss, feed_dict=train_data)))\n",
    "        print('Accuracy on train set - {0}: '.format([step]), sess.run(accuracy, feed_dict=train_data))\n",
    "    \n"
   ]
  },
  {
   "cell_type": "code",
   "execution_count": 41,
   "metadata": {
    "collapsed": false,
    "scrolled": true
   },
   "outputs": [
    {
     "data": {
      "text/plain": [
       "<matplotlib.axes._subplots.AxesSubplot at 0x1142d9588>"
      ]
     },
     "execution_count": 41,
     "metadata": {},
     "output_type": "execute_result"
    },
    {
     "data": {
      "image/png": "[encoded data removed]",
      "text/plain": [
       "<matplotlib.figure.Figure at 0x114307da0>"
      ]
     },
     "metadata": {},
     "output_type": "display_data"
    }
   ],
   "source": [
    "pd.DataFrame(t, columns=['step', 'error']).plot(x='step', y='error', figsize=(20,5))"
   ]
  }
 ],
 "metadata": {
  "anaconda-cloud": {},
  "kernelspec": {
   "display_name": "Python [conda env:tensorflow]",
   "language": "python",
   "name": "conda-env-tensorflow-py"
  },
  "language_info": {
   "codemirror_mode": {
    "name": "ipython",
    "version": 3
   },
   "file_extension": ".py",
   "mimetype": "text/x-python",
   "name": "python",
   "nbconvert_exporter": "python",
   "pygments_lexer": "ipython3",
   "version": "3.5.3"
  }
 },
 "nbformat": 4,
 "nbformat_minor": 0
}

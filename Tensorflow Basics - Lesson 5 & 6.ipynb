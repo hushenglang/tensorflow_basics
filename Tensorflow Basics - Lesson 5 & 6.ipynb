{
 "cells": [
  {
   "cell_type": "markdown",
   "metadata": {},
   "source": [
    "# Tunning Your Model\n",
    "As a Data Scientist you need to be able to tune your model to make sure it is predicting as accurately as possible and doing it as fast as possible. There are a couple of parameters that you will have the opportunity to tweak for the Gradient Descent Optimizer.\n",
    "> **Learning Rate** - Determines how fast your model will learn. The higher the number the faster it will learn.\n",
    "\n",
    "* If you make the LR too high, your model might osilate between the same two values but never hit the local minimum (or the answer)\n",
    "* If you make the LR too small, you might need significant more iterations to get to the local minimum\n",
    "* Typical LR range: [0.001 - 1]\n",
    "\n",
    "The goal is to choose the highest learning rate that will get you the local minimum with as few iterations as possible.\n",
    "\n",
    "> **Iterations** - Determines the number of iterations you are going to run your model for. You may also hear this referred to as an epoch.\n",
    "\n",
    "Consider plotting the error output against the number of iterations.\n",
    "* Make sure the error it is decreasing in a consistent manner and decreasing after every iteration\n",
    "* A flat line could mean you have found your answer\n",
    "\n",
    "How many iterations are recommended?\n",
    "* Depends on the problem, it could be a few, it could be many."
   ]
  },
  {
   "cell_type": "code",
   "execution_count": 2,
   "metadata": {
    "collapsed": false
   },
   "outputs": [
    {
     "name": "stdout",
     "output_type": "stream",
     "text": [
      "Python version 3.5.3 | packaged by conda-forge | (default, Feb 10 2017, 07:09:50) \n",
      "[GCC 4.2.1 Compatible Apple LLVM 7.3.0 (clang-703.0.31)]\n",
      "Tensorflow version 1.0.1\n",
      "Pandas version 0.19.2\n",
      "Numpy version 1.12.0\n"
     ]
    }
   ],
   "source": [
    "# import libraries\n",
    "import tensorflow as tf\n",
    "import pandas as pd\n",
    "import numpy as np\n",
    "import sys\n",
    "import math\n",
    "%matplotlib inline\n",
    "print('Python version ' + sys.version)\n",
    "print('Tensorflow version ' + tf.VERSION)\n",
    "print('Pandas version ' + pd.__version__)\n",
    "print('Numpy version ' + np.__version__)"
   ]
  },
  {
   "cell_type": "code",
   "execution_count": 4,
   "metadata": {
    "collapsed": true
   },
   "outputs": [],
   "source": [
    "train_x = np.random.rand(100).astype(np.float32)"
   ]
  },
  {
   "cell_type": "code",
   "execution_count": 5,
   "metadata": {
    "collapsed": true
   },
   "outputs": [],
   "source": [
    "train_y = 0.1*train_x+0.3"
   ]
  },
  {
   "cell_type": "code",
   "execution_count": 10,
   "metadata": {
    "collapsed": false
   },
   "outputs": [],
   "source": [
    "lr = 0.1\n",
    "\n",
    "x = tf.placeholder(tf.float32, name='x')\n",
    "y = tf.placeholder(tf.float32, name='y')\n",
    "\n",
    "W = tf.Variable(np.random.rand())\n",
    "b = tf.Variable(np.random.rand())\n",
    "pred = W*x + b\n",
    "\n",
    "loss = tf.reduce_mean(tf.square(train_y-pred))\n",
    "optimizer = tf.train.GradientDescentOptimizer(lr)\n",
    "train = optimizer.minimize(loss)"
   ]
  }
 ],
 "metadata": {
  "anaconda-cloud": {},
  "kernelspec": {
   "display_name": "Python [conda env:tensorflow]",
   "language": "python",
   "name": "conda-env-tensorflow-py"
  },
  "language_info": {
   "codemirror_mode": {
    "name": "ipython",
    "version": 3
   },
   "file_extension": ".py",
   "mimetype": "text/x-python",
   "name": "python",
   "nbconvert_exporter": "python",
   "pygments_lexer": "ipython3",
   "version": "3.5.3"
  }
 },
 "nbformat": 4,
 "nbformat_minor": 0
}
